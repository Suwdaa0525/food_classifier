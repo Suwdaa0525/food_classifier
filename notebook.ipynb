{
 "cells": [
  {
   "cell_type": "code",
   "metadata": {
    "tags": [],
    "cell_id": "2dd53e46-6967-461a-b3c5-4fa6cce6d0a3",
    "deepnote_to_be_reexecuted": false,
    "source_hash": "c61f6a84",
    "execution_start": 1643251724624,
    "execution_millis": 11110,
    "deepnote_cell_type": "code"
   },
   "source": "!pip install fastai --upgrade\n!pip install fastcore",
   "execution_count": 1,
   "outputs": [
    {
     "name": "stdout",
     "text": "Collecting fastai\n  Downloading fastai-2.5.3-py3-none-any.whl (189 kB)\n\u001b[K     |████████████████████████████████| 189 kB 21.2 MB/s \n\u001b[?25hRequirement already satisfied, skipping upgrade: matplotlib in /shared-libs/python3.7/py/lib/python3.7/site-packages (from fastai) (3.5.1)\nRequirement already satisfied, skipping upgrade: pandas in /shared-libs/python3.7/py/lib/python3.7/site-packages (from fastai) (1.2.5)\nRequirement already satisfied, skipping upgrade: torch<1.11,>=1.7.0 in /shared-libs/python3.7/py/lib/python3.7/site-packages (from fastai) (1.10.0)\nCollecting fastcore<1.4,>=1.3.22\n  Downloading fastcore-1.3.27-py3-none-any.whl (56 kB)\n\u001b[K     |████████████████████████████████| 56 kB 7.4 MB/s \n\u001b[?25hRequirement already satisfied, skipping upgrade: spacy<4 in /shared-libs/python3.7/py/lib/python3.7/site-packages (from fastai) (3.2.1)\nRequirement already satisfied, skipping upgrade: packaging in /shared-libs/python3.7/py-core/lib/python3.7/site-packages (from fastai) (21.3)\nRequirement already satisfied, skipping upgrade: scikit-learn in /shared-libs/python3.7/py/lib/python3.7/site-packages (from fastai) (1.0.1)\nRequirement already satisfied, skipping upgrade: torchvision>=0.8.2 in /shared-libs/python3.7/py/lib/python3.7/site-packages (from fastai) (0.11.1)\nRequirement already satisfied, skipping upgrade: pillow>6.0.0 in /shared-libs/python3.7/py/lib/python3.7/site-packages (from fastai) (8.4.0)\nRequirement already satisfied, skipping upgrade: scipy in /shared-libs/python3.7/py/lib/python3.7/site-packages (from fastai) (1.7.3)\nRequirement already satisfied, skipping upgrade: pip in /root/venv/lib/python3.7/site-packages (from fastai) (20.1.1)\nRequirement already satisfied, skipping upgrade: requests in /shared-libs/python3.7/py/lib/python3.7/site-packages (from fastai) (2.26.0)\nCollecting fastprogress>=0.2.4\n  Downloading fastprogress-1.0.0-py3-none-any.whl (12 kB)\nCollecting fastdownload<2,>=0.0.5\n  Downloading fastdownload-0.0.5-py3-none-any.whl (13 kB)\nRequirement already satisfied, skipping upgrade: pyyaml in /shared-libs/python3.7/py/lib/python3.7/site-packages (from fastai) (6.0)\nRequirement already satisfied, skipping upgrade: fonttools>=4.22.0 in /shared-libs/python3.7/py/lib/python3.7/site-packages (from matplotlib->fastai) (4.28.3)\nRequirement already satisfied, skipping upgrade: cycler>=0.10 in /shared-libs/python3.7/py/lib/python3.7/site-packages (from matplotlib->fastai) (0.11.0)\nRequirement already satisfied, skipping upgrade: kiwisolver>=1.0.1 in /shared-libs/python3.7/py/lib/python3.7/site-packages (from matplotlib->fastai) (1.3.2)\nRequirement already satisfied, skipping upgrade: pyparsing>=2.2.1 in /shared-libs/python3.7/py-core/lib/python3.7/site-packages (from matplotlib->fastai) (3.0.6)\nRequirement already satisfied, skipping upgrade: numpy>=1.17 in /shared-libs/python3.7/py/lib/python3.7/site-packages (from matplotlib->fastai) (1.19.5)\nRequirement already satisfied, skipping upgrade: python-dateutil>=2.7 in /shared-libs/python3.7/py-core/lib/python3.7/site-packages (from matplotlib->fastai) (2.8.2)\nRequirement already satisfied, skipping upgrade: pytz>=2017.3 in /shared-libs/python3.7/py/lib/python3.7/site-packages (from pandas->fastai) (2021.3)\nRequirement already satisfied, skipping upgrade: typing-extensions in /shared-libs/python3.7/py-core/lib/python3.7/site-packages (from torch<1.11,>=1.7.0->fastai) (4.0.1)\nRequirement already satisfied, skipping upgrade: preshed<3.1.0,>=3.0.2 in /shared-libs/python3.7/py/lib/python3.7/site-packages (from spacy<4->fastai) (3.0.6)\nRequirement already satisfied, skipping upgrade: jinja2 in /shared-libs/python3.7/py-core/lib/python3.7/site-packages (from spacy<4->fastai) (3.0.3)\nRequirement already satisfied, skipping upgrade: setuptools in /root/venv/lib/python3.7/site-packages (from spacy<4->fastai) (47.1.0)\nRequirement already satisfied, skipping upgrade: spacy-loggers<2.0.0,>=1.0.0 in /shared-libs/python3.7/py/lib/python3.7/site-packages (from spacy<4->fastai) (1.0.1)\nRequirement already satisfied, skipping upgrade: typer<0.5.0,>=0.3.0 in /shared-libs/python3.7/py/lib/python3.7/site-packages (from spacy<4->fastai) (0.4.0)\nRequirement already satisfied, skipping upgrade: pathy>=0.3.5 in /shared-libs/python3.7/py/lib/python3.7/site-packages (from spacy<4->fastai) (0.6.1)\nRequirement already satisfied, skipping upgrade: pydantic!=1.8,!=1.8.1,<1.9.0,>=1.7.4 in /shared-libs/python3.7/py/lib/python3.7/site-packages (from spacy<4->fastai) (1.8.2)\nRequirement already satisfied, skipping upgrade: wasabi<1.1.0,>=0.8.1 in /shared-libs/python3.7/py/lib/python3.7/site-packages (from spacy<4->fastai) (0.9.0)\nRequirement already satisfied, skipping upgrade: cymem<2.1.0,>=2.0.2 in /shared-libs/python3.7/py/lib/python3.7/site-packages (from spacy<4->fastai) (2.0.6)\nRequirement already satisfied, skipping upgrade: tqdm<5.0.0,>=4.38.0 in /shared-libs/python3.7/py/lib/python3.7/site-packages (from spacy<4->fastai) (4.62.3)\nRequirement already satisfied, skipping upgrade: srsly<3.0.0,>=2.4.1 in /shared-libs/python3.7/py/lib/python3.7/site-packages (from spacy<4->fastai) (2.4.2)\nRequirement already satisfied, skipping upgrade: blis<0.8.0,>=0.4.0 in /shared-libs/python3.7/py/lib/python3.7/site-packages (from spacy<4->fastai) (0.7.5)\nRequirement already satisfied, skipping upgrade: thinc<8.1.0,>=8.0.12 in /shared-libs/python3.7/py/lib/python3.7/site-packages (from spacy<4->fastai) (8.0.13)\nRequirement already satisfied, skipping upgrade: catalogue<2.1.0,>=2.0.6 in /shared-libs/python3.7/py/lib/python3.7/site-packages (from spacy<4->fastai) (2.0.6)\nRequirement already satisfied, skipping upgrade: murmurhash<1.1.0,>=0.28.0 in /shared-libs/python3.7/py/lib/python3.7/site-packages (from spacy<4->fastai) (1.0.6)\nRequirement already satisfied, skipping upgrade: langcodes<4.0.0,>=3.2.0 in /shared-libs/python3.7/py/lib/python3.7/site-packages (from spacy<4->fastai) (3.3.0)\nRequirement already satisfied, skipping upgrade: spacy-legacy<3.1.0,>=3.0.8 in /shared-libs/python3.7/py/lib/python3.7/site-packages (from spacy<4->fastai) (3.0.8)\nRequirement already satisfied, skipping upgrade: threadpoolctl>=2.0.0 in /shared-libs/python3.7/py/lib/python3.7/site-packages (from scikit-learn->fastai) (3.0.0)\nRequirement already satisfied, skipping upgrade: joblib>=0.11 in /shared-libs/python3.7/py/lib/python3.7/site-packages (from scikit-learn->fastai) (1.1.0)\nRequirement already satisfied, skipping upgrade: urllib3<1.27,>=1.21.1 in /shared-libs/python3.7/py/lib/python3.7/site-packages (from requests->fastai) (1.26.7)\nRequirement already satisfied, skipping upgrade: idna<4,>=2.5; python_version >= \"3\" in /shared-libs/python3.7/py-core/lib/python3.7/site-packages (from requests->fastai) (3.3)\nRequirement already satisfied, skipping upgrade: charset-normalizer~=2.0.0; python_version >= \"3\" in /shared-libs/python3.7/py-core/lib/python3.7/site-packages (from requests->fastai) (2.0.9)\nRequirement already satisfied, skipping upgrade: certifi>=2017.4.17 in /shared-libs/python3.7/py/lib/python3.7/site-packages (from requests->fastai) (2021.10.8)\nRequirement already satisfied, skipping upgrade: six>=1.5 in /shared-libs/python3.7/py-core/lib/python3.7/site-packages (from python-dateutil>=2.7->matplotlib->fastai) (1.16.0)\nRequirement already satisfied, skipping upgrade: MarkupSafe>=2.0 in /shared-libs/python3.7/py-core/lib/python3.7/site-packages (from jinja2->spacy<4->fastai) (2.0.1)\nRequirement already satisfied, skipping upgrade: click<9.0.0,>=7.1.1 in /shared-libs/python3.7/py/lib/python3.7/site-packages (from typer<0.5.0,>=0.3.0->spacy<4->fastai) (8.0.3)\nRequirement already satisfied, skipping upgrade: smart-open<6.0.0,>=5.0.0 in /shared-libs/python3.7/py/lib/python3.7/site-packages (from pathy>=0.3.5->spacy<4->fastai) (5.2.1)\nRequirement already satisfied, skipping upgrade: zipp>=0.5; python_version < \"3.8\" in /shared-libs/python3.7/py-core/lib/python3.7/site-packages (from catalogue<2.1.0,>=2.0.6->spacy<4->fastai) (3.6.0)\nRequirement already satisfied, skipping upgrade: importlib-metadata; python_version < \"3.8\" in /shared-libs/python3.7/py-core/lib/python3.7/site-packages (from click<9.0.0,>=7.1.1->typer<0.5.0,>=0.3.0->spacy<4->fastai) (4.8.2)\nInstalling collected packages: fastcore, fastprogress, fastdownload, fastai\nSuccessfully installed fastai-2.5.3 fastcore-1.3.27 fastdownload-0.0.5 fastprogress-1.0.0\n\u001b[33mWARNING: You are using pip version 20.1.1; however, version 21.3.1 is available.\nYou should consider upgrading via the '/root/venv/bin/python -m pip install --upgrade pip' command.\u001b[0m\nRequirement already satisfied: fastcore in /root/venv/lib/python3.7/site-packages (1.3.27)\nRequirement already satisfied: packaging in /shared-libs/python3.7/py-core/lib/python3.7/site-packages (from fastcore) (21.3)\nRequirement already satisfied: pip in /root/venv/lib/python3.7/site-packages (from fastcore) (20.1.1)\nRequirement already satisfied: pyparsing!=3.0.5,>=2.0.2 in /shared-libs/python3.7/py-core/lib/python3.7/site-packages (from packaging->fastcore) (3.0.6)\n\u001b[33mWARNING: You are using pip version 20.1.1; however, version 21.3.1 is available.\nYou should consider upgrading via the '/root/venv/bin/python -m pip install --upgrade pip' command.\u001b[0m\n",
     "output_type": "stream"
    }
   ]
  },
  {
   "cell_type": "code",
   "source": "!pip install streamlit",
   "metadata": {
    "cell_id": "15279911-eea2-456f-81f8-462bed048688",
    "tags": [],
    "deepnote_to_be_reexecuted": false,
    "source_hash": "bb2176fd",
    "execution_start": 1643252230076,
    "execution_millis": 19129,
    "deepnote_cell_type": "code"
   },
   "outputs": [
    {
     "name": "stdout",
     "text": "Collecting streamlit\n  Downloading streamlit-1.4.0-py2.py3-none-any.whl (9.3 MB)\n\u001b[K     |████████████████████████████████| 9.3 MB 14.3 MB/s \n\u001b[?25hRequirement already satisfied: attrs in /shared-libs/python3.7/py-core/lib/python3.7/site-packages (from streamlit) (21.2.0)\nRequirement already satisfied: requests in /shared-libs/python3.7/py/lib/python3.7/site-packages (from streamlit) (2.26.0)\nRequirement already satisfied: altair>=3.2.0 in /shared-libs/python3.7/py/lib/python3.7/site-packages (from streamlit) (4.1.0)\nCollecting pydeck>=0.1.dev5\n  Downloading pydeck-0.7.1-py2.py3-none-any.whl (4.3 MB)\n\u001b[K     |████████████████████████████████| 4.3 MB 39.9 MB/s \n\u001b[?25hRequirement already satisfied: protobuf!=3.11,>=3.6.0 in /shared-libs/python3.7/py/lib/python3.7/site-packages (from streamlit) (3.19.1)\nCollecting validators\n  Downloading validators-0.18.2-py3-none-any.whl (19 kB)\nRequirement already satisfied: cachetools>=4.0 in /shared-libs/python3.7/py/lib/python3.7/site-packages (from streamlit) (4.2.4)\nRequirement already satisfied: tornado>=5.0 in /shared-libs/python3.7/py-core/lib/python3.7/site-packages (from streamlit) (6.1)\nCollecting gitpython!=3.1.19\n  Downloading GitPython-3.1.26-py3-none-any.whl (180 kB)\n\u001b[K     |████████████████████████████████| 180 kB 41.4 MB/s \n\u001b[?25hCollecting base58\n  Downloading base58-2.1.1-py3-none-any.whl (5.6 kB)\nRequirement already satisfied: click>=7.0 in /shared-libs/python3.7/py/lib/python3.7/site-packages (from streamlit) (8.0.3)\nCollecting tzlocal\n  Downloading tzlocal-4.1-py3-none-any.whl (19 kB)\nCollecting watchdog; platform_system != \"Darwin\"\n  Downloading watchdog-2.1.6-py3-none-manylinux2014_x86_64.whl (76 kB)\n\u001b[K     |████████████████████████████████| 76 kB 8.4 MB/s \n\u001b[?25hRequirement already satisfied: python-dateutil in /shared-libs/python3.7/py-core/lib/python3.7/site-packages (from streamlit) (2.8.2)\nRequirement already satisfied: pyarrow in /shared-libs/python3.7/py/lib/python3.7/site-packages (from streamlit) (6.0.1)\nRequirement already satisfied: packaging in /shared-libs/python3.7/py-core/lib/python3.7/site-packages (from streamlit) (21.3)\nCollecting pympler>=0.9\n  Downloading Pympler-1.0.1-py3-none-any.whl (164 kB)\n\u001b[K     |████████████████████████████████| 164 kB 43.9 MB/s \n\u001b[?25hRequirement already satisfied: pandas>=0.21.0 in /shared-libs/python3.7/py/lib/python3.7/site-packages (from streamlit) (1.2.5)\nRequirement already satisfied: numpy in /shared-libs/python3.7/py/lib/python3.7/site-packages (from streamlit) (1.19.5)\nRequirement already satisfied: typing-extensions; python_version < \"3.8\" in /shared-libs/python3.7/py-core/lib/python3.7/site-packages (from streamlit) (4.0.1)\nRequirement already satisfied: pillow>=6.2.0 in /shared-libs/python3.7/py/lib/python3.7/site-packages (from streamlit) (8.4.0)\nCollecting blinker\n  Downloading blinker-1.4.tar.gz (111 kB)\n\u001b[K     |████████████████████████████████| 111 kB 42.5 MB/s \n\u001b[?25hRequirement already satisfied: toml in /shared-libs/python3.7/py/lib/python3.7/site-packages (from streamlit) (0.10.2)\nCollecting astor\n  Downloading astor-0.8.1-py2.py3-none-any.whl (27 kB)\nRequirement already satisfied: urllib3<1.27,>=1.21.1 in /shared-libs/python3.7/py/lib/python3.7/site-packages (from requests->streamlit) (1.26.7)\nRequirement already satisfied: idna<4,>=2.5; python_version >= \"3\" in /shared-libs/python3.7/py-core/lib/python3.7/site-packages (from requests->streamlit) (3.3)\nRequirement already satisfied: charset-normalizer~=2.0.0; python_version >= \"3\" in /shared-libs/python3.7/py-core/lib/python3.7/site-packages (from requests->streamlit) (2.0.9)\nRequirement already satisfied: certifi>=2017.4.17 in /shared-libs/python3.7/py/lib/python3.7/site-packages (from requests->streamlit) (2021.10.8)\nRequirement already satisfied: toolz in /shared-libs/python3.7/py/lib/python3.7/site-packages (from altair>=3.2.0->streamlit) (0.11.2)\nRequirement already satisfied: jsonschema in /shared-libs/python3.7/py-core/lib/python3.7/site-packages (from altair>=3.2.0->streamlit) (3.2.0)\nRequirement already satisfied: jinja2 in /shared-libs/python3.7/py-core/lib/python3.7/site-packages (from altair>=3.2.0->streamlit) (3.0.3)\nRequirement already satisfied: entrypoints in /shared-libs/python3.7/py-core/lib/python3.7/site-packages (from altair>=3.2.0->streamlit) (0.3)\nRequirement already satisfied: ipykernel>=5.1.2; python_version >= \"3.4\" in /shared-libs/python3.7/py-core/lib/python3.7/site-packages (from pydeck>=0.1.dev5->streamlit) (5.5.5)\nRequirement already satisfied: traitlets>=4.3.2 in /shared-libs/python3.7/py-core/lib/python3.7/site-packages (from pydeck>=0.1.dev5->streamlit) (4.3.3)\nCollecting ipywidgets>=7.0.0\n  Downloading ipywidgets-7.6.5-py2.py3-none-any.whl (121 kB)\n\u001b[K     |████████████████████████████████| 121 kB 40.6 MB/s \n\u001b[?25hRequirement already satisfied: decorator>=3.4.0 in /shared-libs/python3.7/py-core/lib/python3.7/site-packages (from validators->streamlit) (5.1.0)\nRequirement already satisfied: six>=1.4.0 in /shared-libs/python3.7/py-core/lib/python3.7/site-packages (from validators->streamlit) (1.16.0)\nCollecting gitdb<5,>=4.0.1\n  Downloading gitdb-4.0.9-py3-none-any.whl (63 kB)\n\u001b[K     |████████████████████████████████| 63 kB 3.1 MB/s \n\u001b[?25hRequirement already satisfied: importlib-metadata; python_version < \"3.8\" in /shared-libs/python3.7/py-core/lib/python3.7/site-packages (from click>=7.0->streamlit) (4.8.2)\nCollecting pytz-deprecation-shim\n  Downloading pytz_deprecation_shim-0.1.0.post0-py2.py3-none-any.whl (15 kB)\nCollecting backports.zoneinfo; python_version < \"3.9\"\n  Downloading backports.zoneinfo-0.2.1-cp37-cp37m-manylinux1_x86_64.whl (70 kB)\n\u001b[K     |████████████████████████████████| 70 kB 12.5 MB/s \n\u001b[?25hRequirement already satisfied: pyparsing!=3.0.5,>=2.0.2 in /shared-libs/python3.7/py-core/lib/python3.7/site-packages (from packaging->streamlit) (3.0.6)\nRequirement already satisfied: pytz>=2017.3 in /shared-libs/python3.7/py/lib/python3.7/site-packages (from pandas>=0.21.0->streamlit) (2021.3)\nRequirement already satisfied: pyrsistent>=0.14.0 in /shared-libs/python3.7/py-core/lib/python3.7/site-packages (from jsonschema->altair>=3.2.0->streamlit) (0.18.0)\nRequirement already satisfied: setuptools in /root/venv/lib/python3.7/site-packages (from jsonschema->altair>=3.2.0->streamlit) (47.1.0)\nRequirement already satisfied: MarkupSafe>=2.0 in /shared-libs/python3.7/py-core/lib/python3.7/site-packages (from jinja2->altair>=3.2.0->streamlit) (2.0.1)\nRequirement already satisfied: jupyter-client in /shared-libs/python3.7/py-core/lib/python3.7/site-packages (from ipykernel>=5.1.2; python_version >= \"3.4\"->pydeck>=0.1.dev5->streamlit) (6.1.12)\nRequirement already satisfied: ipython>=5.0.0 in /shared-libs/python3.7/py-core/lib/python3.7/site-packages (from ipykernel>=5.1.2; python_version >= \"3.4\"->pydeck>=0.1.dev5->streamlit) (7.30.1)\nRequirement already satisfied: ipython-genutils in /shared-libs/python3.7/py-core/lib/python3.7/site-packages (from traitlets>=4.3.2->pydeck>=0.1.dev5->streamlit) (0.2.0)\nRequirement already satisfied: nbformat>=4.2.0 in /shared-libs/python3.7/py-core/lib/python3.7/site-packages (from ipywidgets>=7.0.0->pydeck>=0.1.dev5->streamlit) (5.1.3)\nCollecting widgetsnbextension~=3.5.0\n  Downloading widgetsnbextension-3.5.2-py2.py3-none-any.whl (1.6 MB)\n\u001b[K     |████████████████████████████████| 1.6 MB 36.2 MB/s \n\u001b[?25hCollecting jupyterlab-widgets>=1.0.0; python_version >= \"3.6\"\n  Downloading jupyterlab_widgets-1.0.2-py3-none-any.whl (243 kB)\n\u001b[K     |████████████████████████████████| 243 kB 42.9 MB/s \n\u001b[?25hCollecting smmap<6,>=3.0.1\n  Downloading smmap-5.0.0-py3-none-any.whl (24 kB)\nRequirement already satisfied: zipp>=0.5 in /shared-libs/python3.7/py-core/lib/python3.7/site-packages (from importlib-metadata; python_version < \"3.8\"->click>=7.0->streamlit) (3.6.0)\nCollecting tzdata; python_version >= \"3.6\"\n  Downloading tzdata-2021.5-py2.py3-none-any.whl (339 kB)\n\u001b[K     |████████████████████████████████| 339 kB 41.9 MB/s \n\u001b[?25hRequirement already satisfied: jupyter-core>=4.6.0 in /shared-libs/python3.7/py-core/lib/python3.7/site-packages (from jupyter-client->ipykernel>=5.1.2; python_version >= \"3.4\"->pydeck>=0.1.dev5->streamlit) (4.7.1)\nRequirement already satisfied: pyzmq>=13 in /shared-libs/python3.7/py-core/lib/python3.7/site-packages (from jupyter-client->ipykernel>=5.1.2; python_version >= \"3.4\"->pydeck>=0.1.dev5->streamlit) (22.3.0)\nRequirement already satisfied: pickleshare in /shared-libs/python3.7/py-core/lib/python3.7/site-packages (from ipython>=5.0.0->ipykernel>=5.1.2; python_version >= \"3.4\"->pydeck>=0.1.dev5->streamlit) (0.7.5)\nRequirement already satisfied: pexpect>4.3; sys_platform != \"win32\" in /shared-libs/python3.7/py-core/lib/python3.7/site-packages (from ipython>=5.0.0->ipykernel>=5.1.2; python_version >= \"3.4\"->pydeck>=0.1.dev5->streamlit) (4.8.0)\nRequirement already satisfied: backcall in /shared-libs/python3.7/py-core/lib/python3.7/site-packages (from ipython>=5.0.0->ipykernel>=5.1.2; python_version >= \"3.4\"->pydeck>=0.1.dev5->streamlit) (0.2.0)\nRequirement already satisfied: prompt-toolkit!=3.0.0,!=3.0.1,<3.1.0,>=2.0.0 in /shared-libs/python3.7/py-core/lib/python3.7/site-packages (from ipython>=5.0.0->ipykernel>=5.1.2; python_version >= \"3.4\"->pydeck>=0.1.dev5->streamlit) (3.0.24)\nRequirement already satisfied: matplotlib-inline in /shared-libs/python3.7/py-core/lib/python3.7/site-packages (from ipython>=5.0.0->ipykernel>=5.1.2; python_version >= \"3.4\"->pydeck>=0.1.dev5->streamlit) (0.1.3)\nRequirement already satisfied: jedi>=0.16 in /shared-libs/python3.7/py-core/lib/python3.7/site-packages (from ipython>=5.0.0->ipykernel>=5.1.2; python_version >= \"3.4\"->pydeck>=0.1.dev5->streamlit) (0.17.2)\nRequirement already satisfied: pygments in /shared-libs/python3.7/py-core/lib/python3.7/site-packages (from ipython>=5.0.0->ipykernel>=5.1.2; python_version >= \"3.4\"->pydeck>=0.1.dev5->streamlit) (2.10.0)\nRequirement already satisfied: notebook>=4.4.1 in /shared-libs/python3.7/py-core/lib/python3.7/site-packages (from widgetsnbextension~=3.5.0->ipywidgets>=7.0.0->pydeck>=0.1.dev5->streamlit) (6.3.0)\nRequirement already satisfied: ptyprocess>=0.5 in /shared-libs/python3.7/py-core/lib/python3.7/site-packages (from pexpect>4.3; sys_platform != \"win32\"->ipython>=5.0.0->ipykernel>=5.1.2; python_version >= \"3.4\"->pydeck>=0.1.dev5->streamlit) (0.7.0)\nRequirement already satisfied: wcwidth in /shared-libs/python3.7/py-core/lib/python3.7/site-packages (from prompt-toolkit!=3.0.0,!=3.0.1,<3.1.0,>=2.0.0->ipython>=5.0.0->ipykernel>=5.1.2; python_version >= \"3.4\"->pydeck>=0.1.dev5->streamlit) (0.2.5)\nRequirement already satisfied: parso<0.8.0,>=0.7.0 in /shared-libs/python3.7/py-core/lib/python3.7/site-packages (from jedi>=0.16->ipython>=5.0.0->ipykernel>=5.1.2; python_version >= \"3.4\"->pydeck>=0.1.dev5->streamlit) (0.7.1)\nRequirement already satisfied: argon2-cffi in /shared-libs/python3.7/py-core/lib/python3.7/site-packages (from notebook>=4.4.1->widgetsnbextension~=3.5.0->ipywidgets>=7.0.0->pydeck>=0.1.dev5->streamlit) (21.3.0)\nRequirement already satisfied: nbconvert==6.0.7 in /shared-libs/python3.7/py-core/lib/python3.7/site-packages (from notebook>=4.4.1->widgetsnbextension~=3.5.0->ipywidgets>=7.0.0->pydeck>=0.1.dev5->streamlit) (6.0.7)\nRequirement already satisfied: terminado>=0.8.3 in /shared-libs/python3.7/py-core/lib/python3.7/site-packages (from notebook>=4.4.1->widgetsnbextension~=3.5.0->ipywidgets>=7.0.0->pydeck>=0.1.dev5->streamlit) (0.12.1)\nRequirement already satisfied: Send2Trash>=1.5.0 in /shared-libs/python3.7/py-core/lib/python3.7/site-packages (from notebook>=4.4.1->widgetsnbextension~=3.5.0->ipywidgets>=7.0.0->pydeck>=0.1.dev5->streamlit) (1.8.0)\nRequirement already satisfied: prometheus-client in /shared-libs/python3.7/py-core/lib/python3.7/site-packages (from notebook>=4.4.1->widgetsnbextension~=3.5.0->ipywidgets>=7.0.0->pydeck>=0.1.dev5->streamlit) (0.12.0)\nRequirement already satisfied: argon2-cffi-bindings in /shared-libs/python3.7/py-core/lib/python3.7/site-packages (from argon2-cffi->notebook>=4.4.1->widgetsnbextension~=3.5.0->ipywidgets>=7.0.0->pydeck>=0.1.dev5->streamlit) (21.2.0)\nRequirement already satisfied: defusedxml in /shared-libs/python3.7/py-core/lib/python3.7/site-packages (from nbconvert==6.0.7->notebook>=4.4.1->widgetsnbextension~=3.5.0->ipywidgets>=7.0.0->pydeck>=0.1.dev5->streamlit) (0.7.1)\nRequirement already satisfied: jupyterlab-pygments in /shared-libs/python3.7/py-core/lib/python3.7/site-packages (from nbconvert==6.0.7->notebook>=4.4.1->widgetsnbextension~=3.5.0->ipywidgets>=7.0.0->pydeck>=0.1.dev5->streamlit) (0.1.2)\nRequirement already satisfied: mistune<2,>=0.8.1 in /shared-libs/python3.7/py-core/lib/python3.7/site-packages (from nbconvert==6.0.7->notebook>=4.4.1->widgetsnbextension~=3.5.0->ipywidgets>=7.0.0->pydeck>=0.1.dev5->streamlit) (0.8.4)\nRequirement already satisfied: testpath in /shared-libs/python3.7/py-core/lib/python3.7/site-packages (from nbconvert==6.0.7->notebook>=4.4.1->widgetsnbextension~=3.5.0->ipywidgets>=7.0.0->pydeck>=0.1.dev5->streamlit) (0.5.0)\nRequirement already satisfied: nbclient<0.6.0,>=0.5.0 in /shared-libs/python3.7/py-core/lib/python3.7/site-packages (from nbconvert==6.0.7->notebook>=4.4.1->widgetsnbextension~=3.5.0->ipywidgets>=7.0.0->pydeck>=0.1.dev5->streamlit) (0.5.9)\nRequirement already satisfied: bleach in /shared-libs/python3.7/py-core/lib/python3.7/site-packages (from nbconvert==6.0.7->notebook>=4.4.1->widgetsnbextension~=3.5.0->ipywidgets>=7.0.0->pydeck>=0.1.dev5->streamlit) (4.1.0)\nRequirement already satisfied: pandocfilters>=1.4.1 in /shared-libs/python3.7/py-core/lib/python3.7/site-packages (from nbconvert==6.0.7->notebook>=4.4.1->widgetsnbextension~=3.5.0->ipywidgets>=7.0.0->pydeck>=0.1.dev5->streamlit) (1.5.0)\nRequirement already satisfied: cffi>=1.0.1 in /shared-libs/python3.7/py-core/lib/python3.7/site-packages (from argon2-cffi-bindings->argon2-cffi->notebook>=4.4.1->widgetsnbextension~=3.5.0->ipywidgets>=7.0.0->pydeck>=0.1.dev5->streamlit) (1.15.0)\nRequirement already satisfied: nest-asyncio in /shared-libs/python3.7/py-core/lib/python3.7/site-packages (from nbclient<0.6.0,>=0.5.0->nbconvert==6.0.7->notebook>=4.4.1->widgetsnbextension~=3.5.0->ipywidgets>=7.0.0->pydeck>=0.1.dev5->streamlit) (1.5.4)\nRequirement already satisfied: webencodings in /shared-libs/python3.7/py-core/lib/python3.7/site-packages (from bleach->nbconvert==6.0.7->notebook>=4.4.1->widgetsnbextension~=3.5.0->ipywidgets>=7.0.0->pydeck>=0.1.dev5->streamlit) (0.5.1)\nRequirement already satisfied: pycparser in /shared-libs/python3.7/py-core/lib/python3.7/site-packages (from cffi>=1.0.1->argon2-cffi-bindings->argon2-cffi->notebook>=4.4.1->widgetsnbextension~=3.5.0->ipywidgets>=7.0.0->pydeck>=0.1.dev5->streamlit) (2.21)\nBuilding wheels for collected packages: blinker\n  Building wheel for blinker (setup.py) ... \u001b[?25ldone\n\u001b[?25h  Created wheel for blinker: filename=blinker-1.4-py3-none-any.whl size=13451 sha256=64c246a9fae387ca9a65879673a94629894deb51f45f908f5a4131f7152bc0e0\n  Stored in directory: /root/.cache/pip/wheels/22/f5/18/df711b66eb25b21325c132757d4314db9ac5e8dabeaf196eab\nSuccessfully built blinker\nInstalling collected packages: widgetsnbextension, jupyterlab-widgets, ipywidgets, pydeck, validators, smmap, gitdb, gitpython, base58, backports.zoneinfo, tzdata, pytz-deprecation-shim, tzlocal, watchdog, pympler, blinker, astor, streamlit\nSuccessfully installed astor-0.8.1 backports.zoneinfo-0.2.1 base58-2.1.1 blinker-1.4 gitdb-4.0.9 gitpython-3.1.26 ipywidgets-7.6.5 jupyterlab-widgets-1.0.2 pydeck-0.7.1 pympler-1.0.1 pytz-deprecation-shim-0.1.0.post0 smmap-5.0.0 streamlit-1.4.0 tzdata-2021.5 tzlocal-4.1 validators-0.18.2 watchdog-2.1.6 widgetsnbextension-3.5.2\n\u001b[33mWARNING: You are using pip version 20.1.1; however, version 21.3.1 is available.\nYou should consider upgrading via the '/root/venv/bin/python -m pip install --upgrade pip' command.\u001b[0m\n",
     "output_type": "stream"
    }
   ],
   "execution_count": 2
  },
  {
   "cell_type": "code",
   "source": "!pip install gdown",
   "metadata": {
    "cell_id": "07676e40-70e6-43de-a4cc-39a2ca696692",
    "tags": [],
    "deepnote_to_be_reexecuted": false,
    "source_hash": "3d3a8ed3",
    "execution_start": 1643252373834,
    "execution_millis": 14781,
    "deepnote_cell_type": "code"
   },
   "outputs": [
    {
     "name": "stdout",
     "text": "Collecting gdown\n  Downloading gdown-4.2.0.tar.gz (13 kB)\n  Installing build dependencies ... \u001b[?25ldone\n\u001b[?25h  Getting requirements to build wheel ... \u001b[?25ldone\n\u001b[?25h    Preparing wheel metadata ... \u001b[?25ldone\n\u001b[?25hRequirement already satisfied: six in /shared-libs/python3.7/py-core/lib/python3.7/site-packages (from gdown) (1.16.0)\nCollecting beautifulsoup4\n  Downloading beautifulsoup4-4.10.0-py3-none-any.whl (97 kB)\n\u001b[K     |████████████████████████████████| 97 kB 8.1 MB/s \n\u001b[?25hRequirement already satisfied: tqdm in /shared-libs/python3.7/py/lib/python3.7/site-packages (from gdown) (4.62.3)\nCollecting filelock\n  Downloading filelock-3.4.2-py3-none-any.whl (9.9 kB)\nRequirement already satisfied: requests[socks] in /shared-libs/python3.7/py/lib/python3.7/site-packages (from gdown) (2.26.0)\nCollecting soupsieve>1.2\n  Downloading soupsieve-2.3.1-py3-none-any.whl (37 kB)\nRequirement already satisfied: charset-normalizer~=2.0.0; python_version >= \"3\" in /shared-libs/python3.7/py-core/lib/python3.7/site-packages (from requests[socks]->gdown) (2.0.9)\nRequirement already satisfied: idna<4,>=2.5; python_version >= \"3\" in /shared-libs/python3.7/py-core/lib/python3.7/site-packages (from requests[socks]->gdown) (3.3)\nRequirement already satisfied: certifi>=2017.4.17 in /shared-libs/python3.7/py/lib/python3.7/site-packages (from requests[socks]->gdown) (2021.10.8)\nRequirement already satisfied: urllib3<1.27,>=1.21.1 in /shared-libs/python3.7/py/lib/python3.7/site-packages (from requests[socks]->gdown) (1.26.7)\nCollecting PySocks!=1.5.7,>=1.5.6; extra == \"socks\"\n  Downloading PySocks-1.7.1-py3-none-any.whl (16 kB)\nBuilding wheels for collected packages: gdown\n  Building wheel for gdown (PEP 517) ... \u001b[?25ldone\n\u001b[?25h  Created wheel for gdown: filename=gdown-4.2.0-py3-none-any.whl size=14262 sha256=81a6d924070f3040ea772a9a4e7f6a37e3b0a65227d6c1a938926c6af6c1a9f1\n  Stored in directory: /root/.cache/pip/wheels/8c/17/ff/58721d1fabdb87c21a0529948cf39e2be9af90ddbe4ad65944\nSuccessfully built gdown\nInstalling collected packages: soupsieve, beautifulsoup4, filelock, gdown, PySocks\nSuccessfully installed PySocks-1.7.1 beautifulsoup4-4.10.0 filelock-3.4.2 gdown-4.2.0 soupsieve-2.3.1\n\u001b[33mWARNING: You are using pip version 20.1.1; however, version 21.3.1 is available.\nYou should consider upgrading via the '/root/venv/bin/python -m pip install --upgrade pip' command.\u001b[0m\n",
     "output_type": "stream"
    }
   ],
   "execution_count": 3
  },
  {
   "cell_type": "code",
   "source": "import fastai\nfastai.__version__",
   "metadata": {
    "cell_id": "b9e4ee47-2a28-4c8a-88c0-fff112b8787f",
    "tags": [],
    "deepnote_to_be_reexecuted": false,
    "source_hash": "823977d4",
    "execution_start": 1643252733895,
    "execution_millis": 302,
    "deepnote_output_heights": [
     21.1875
    ],
    "deepnote_cell_type": "code"
   },
   "outputs": [
    {
     "output_type": "execute_result",
     "execution_count": 5,
     "data": {
      "text/plain": "'2.5.3'"
     },
     "metadata": {}
    }
   ],
   "execution_count": 5
  },
  {
   "cell_type": "code",
   "source": "import fastcore\nfastcore.__version__",
   "metadata": {
    "cell_id": "2f8a7d0b-8063-46bf-b636-6a5652d5a3cf",
    "tags": [],
    "deepnote_to_be_reexecuted": false,
    "source_hash": "2bb0c3f8",
    "execution_start": 1643252761296,
    "execution_millis": 15,
    "deepnote_output_heights": [
     21.1875
    ],
    "deepnote_cell_type": "code"
   },
   "outputs": [
    {
     "output_type": "execute_result",
     "execution_count": 6,
     "data": {
      "text/plain": "'1.3.27'"
     },
     "metadata": {}
    }
   ],
   "execution_count": 6
  },
  {
   "cell_type": "code",
   "source": "import streamlit\nstreamlit.__version__",
   "metadata": {
    "cell_id": "48be857a-a76e-4290-9b53-14673784906d",
    "tags": [],
    "deepnote_to_be_reexecuted": false,
    "source_hash": "96c784b8",
    "execution_start": 1643252778036,
    "execution_millis": 3557,
    "deepnote_output_heights": [
     21.1875
    ],
    "deepnote_cell_type": "code"
   },
   "outputs": [
    {
     "output_type": "execute_result",
     "execution_count": 7,
     "data": {
      "text/plain": "'1.4.0'"
     },
     "metadata": {}
    }
   ],
   "execution_count": 7
  },
  {
   "cell_type": "code",
   "source": "import gdown\ngdown.__version__",
   "metadata": {
    "cell_id": "f2b0b820-42af-45ee-adad-bb40fe3412b8",
    "tags": [],
    "deepnote_to_be_reexecuted": false,
    "source_hash": "716c3447",
    "execution_start": 1643252793541,
    "execution_millis": 408,
    "deepnote_output_heights": [
     21.1875
    ],
    "deepnote_cell_type": "code"
   },
   "outputs": [
    {
     "output_type": "execute_result",
     "execution_count": 8,
     "data": {
      "text/plain": "'4.2.0'"
     },
     "metadata": {}
    }
   ],
   "execution_count": 8
  },
  {
   "cell_type": "code",
   "source": "",
   "metadata": {
    "cell_id": "1f2f787d-5511-4d50-a86a-3ad46d760510",
    "tags": [],
    "deepnote_cell_type": "code"
   },
   "outputs": [],
   "execution_count": null
  },
  {
   "cell_type": "markdown",
   "source": "<a style='text-decoration:none;line-height:16px;display:flex;color:#5B5B62;padding:10px;justify-content:end;' href='https://deepnote.com?utm_source=created-in-deepnote-cell&projectId=a2e85f19-18c0-44b8-af1a-8e91e5398a19' target=\"_blank\">\n<img alt='Created in deepnote.com' style='display:inline;max-height:16px;margin:0px;margin-right:7.5px;' src='data:image/svg+xml;base64,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' > </img>\nCreated in <span style='font-weight:600;margin-left:4px;'>Deepnote</span></a>",
   "metadata": {
    "tags": [],
    "created_in_deepnote_cell": true,
    "deepnote_cell_type": "markdown"
   }
  }
 ],
 "nbformat": 4,
 "nbformat_minor": 2,
 "metadata": {
  "orig_nbformat": 2,
  "deepnote": {
   "is_reactive": false
  },
  "deepnote_notebook_id": "a75a528c-d912-4887-bef3-579989add83d",
  "deepnote_execution_queue": []
 }
}